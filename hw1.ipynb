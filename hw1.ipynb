{
 "cells": [
  {
   "cell_type": "code",
   "execution_count": 1,
   "metadata": {},
   "outputs": [],
   "source": [
    "# Problem 1\n",
    "'''讀一個數字, 代表要輸出幾行. 然後因為讀進來的資料行帶試string, 所以要用int()把輸入的字串轉為數字'''\n",
    "n = int(input())\n",
    "for i in range(n):\n",
    "    '''\n",
    "        令n代表總行數, i代表第幾行\n",
    "        觀察一下可以發現每行\n",
    "        (1) 總共會有(i*2+1)個星星\n",
    "        (2) 左半邊會有(n-i)個空格\n",
    "        所以我們要做的事就是每行先印(n-i)個空格, 然後再印(i*2+1)個星星\n",
    "    '''\n",
    "    print(' ' * (n-i) + '*' * (i*2+1))"
   ]
  },
  {
   "cell_type": "code",
   "execution_count": 2,
   "metadata": {},
   "outputs": [],
   "source": [
    "# Problem 2\n",
    "import math\n",
    "total_hours = math.ceil(float(input()))\n",
    "price_per_day = [0] * (total_hours // 24 + 1)\n",
    "\n",
    "for hour in range(total_hours):\n",
    "    day = hour // 24\n",
    "    if day == 0 and hour < 15:\n",
    "        continue\n",
    "    price_per_day[day] += 50\n",
    "print(sum([min(300, price) for price in price_per_day]))"
   ]
  },
  {
   "cell_type": "code",
   "execution_count": 3,
   "metadata": {},
   "outputs": [],
   "source": [
    "# Problem 3\n",
    "passward = '10799'\n",
    "n_error = 0\n",
    "for _ in range(3):\n",
    "    if input() == passward:\n",
    "        print('密碼正確')\n",
    "        exit(0)\n",
    "print('密碼錯誤三次，取消輸入')"
   ]
  },
  {
   "cell_type": "code",
   "execution_count": 4,
   "metadata": {},
   "outputs": [],
   "source": [
    "# Problem 4\n",
    "total_donate = 0\n",
    "while(True):\n",
    "    print('輸入捐款金額: ', end =\" \")\n",
    "    donate = int(input())\n",
    "    while(donate < 0):        \n",
    "        print('捐款不能為負,請重新輸入捐款金額: ')\n",
    "        donate = int(input())\n",
    "    total_donate += donate\n",
    "    print(f'累積: {total_donate}')\n",
    "    if donate == 0:\n",
    "        break"
   ]
  },
  {
   "cell_type": "code",
   "execution_count": 6,
   "metadata": {},
   "outputs": [],
   "source": [
    "# Problem 5\n",
    "target = float(input()) - 20000\n",
    "if target <= 50000 * 1.08:\n",
    "    print(target / 1.08)\n",
    "elif target <= 100000 * 1.1:\n",
    "    print(target / 1.1)\n",
    "else:\n",
    "    print(target / 1.12)"
   ]
  }
 ],
 "metadata": {
  "kernelspec": {
   "display_name": "Python 3",
   "language": "python",
   "name": "python3"
  },
  "language_info": {
   "codemirror_mode": {
    "name": "ipython",
    "version": 3
   },
   "file_extension": ".py",
   "mimetype": "text/x-python",
   "name": "python",
   "nbconvert_exporter": "python",
   "pygments_lexer": "ipython3",
   "version": "3.7.3"
  }
 },
 "nbformat": 4,
 "nbformat_minor": 4
}
